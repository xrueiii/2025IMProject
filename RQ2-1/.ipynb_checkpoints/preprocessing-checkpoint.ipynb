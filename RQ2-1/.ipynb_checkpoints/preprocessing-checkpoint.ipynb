{
 "cells": [
  {
   "cell_type": "code",
   "execution_count": 1,
   "id": "f91cc278",
   "metadata": {},
   "outputs": [],
   "source": [
    "import json\n",
    "from collections import Counter, defaultdict\n",
    "import pandas as pd\n",
    "import matplotlib.pyplot as plt\n",
    "from scipy.stats import mannwhitneyu\n",
    "from scipy.stats import ttest_ind\n",
    "import seaborn as sns\n",
    "from scipy.stats import shapiro, normaltest, kstest\n",
    "import scipy.stats as stats"
   ]
  },
  {
   "cell_type": "markdown",
   "id": "47e84882",
   "metadata": {},
   "source": [
    "## Add Label Period and Mainstream"
   ]
  },
  {
   "cell_type": "code",
   "execution_count": null,
   "id": "a723d86a",
   "metadata": {},
   "outputs": [
    {
     "name": "stdout",
     "output_type": "stream",
     "text": [
      "⚠️ Skipping Article_584 — not a dictionary.\n",
      "⚠️ Skipping Article_589 — not a dictionary.\n",
      "⚠️ Skipping Article_613 — not a dictionary.\n",
      "⚠️ Skipping Article_621 — not a dictionary.\n",
      "⚠️ Skipping Article_630 — not a dictionary.\n",
      "✅ Enriched JSON saved to 'step2_all_with_periods_media.json'.\n"
     ]
    }
   ],
   "source": [
    "# === Load Excel file and create lookup dictionaries ===\n",
    "excel_df = pd.read_excel('../articles_584.xlsx', usecols=['id', 'period', 'media_type'])\n",
    "\n",
    "# Create mapping dictionaries\n",
    "id_to_period = dict(zip(excel_df['id'], excel_df['period']))\n",
    "id_to_media_type = dict(zip(excel_df['id'], excel_df['media_type']))\n",
    "\n",
    "# === Load original JSON file ===\n",
    "with open('step2_all.json', 'r', encoding='utf-8') as f:\n",
    "    json_data = json.load(f)\n",
    "\n",
    "# === Enrich each article with 'period' and 'media_type' ===\n",
    "for article_key, article_content in json_data.items():\n",
    "    try:\n",
    "        article_id = int(article_key.split('_')[1])\n",
    "    except (IndexError, ValueError):\n",
    "        print(f\"⚠️ Skipping malformed key: {article_key}\")\n",
    "        continue\n",
    "\n",
    "    if isinstance(article_content, dict):\n",
    "        article_content['period'] = id_to_period.get(article_id)\n",
    "        article_content['media_type'] = id_to_media_type.get(article_id, 'unknown')\n",
    "    else:\n",
    "        print(f\"⚠️ Skipping {article_key} — not a dictionary.\")\n",
    "\n",
    "# === Save enriched JSON to file ===\n",
    "with open('step2_all_with_periods_media.json', 'w', encoding='utf-8') as f:\n",
    "    json.dump(json_data, f, indent=2, ensure_ascii=False)\n",
    "\n",
    "print(\"✅ Enriched JSON saved to 'step2_all_with_periods_media.json'.\")\n"
   ]
  },
  {
   "cell_type": "markdown",
   "id": "0575dd70",
   "metadata": {},
   "source": [
    "## Convert json to Pivot Table"
   ]
  },
  {
   "cell_type": "code",
   "execution_count": null,
   "id": "1c582bb2",
   "metadata": {},
   "outputs": [],
   "source": [
    "# Load the updated JSON with period information\n",
    "with open('step2_all_with_periods_media.json', 'r', encoding='utf-8') as f:\n",
    "    data = json.load(f)\n",
    "\n",
    "# List to hold per-article rows\n",
    "article_rows = []\n",
    "\n",
    "# Loop over each article\n",
    "for article_id, article_data in data.items():\n",
    "    if not isinstance(article_data, dict):\n",
    "        continue\n",
    "\n",
    "    entity_type_counter = Counter()\n",
    "    period = article_data.get('period', None)  # get period if exists\n",
    "\n",
    "    # Count entity types\n",
    "    for entity_key, entity in article_data.items():\n",
    "        if entity_key == 'period' or not isinstance(entity, dict):\n",
    "            continue\n",
    "        entity_type = entity.get('entity_type')\n",
    "        if entity_type:\n",
    "            entity_type_counter[entity_type] += 1\n",
    "\n",
    "    # Build row with entity_type counts and period\n",
    "    row = {'article_id': article_id, 'period': period}\n",
    "    row.update(entity_type_counter)\n",
    "    article_rows.append(row)\n",
    "\n",
    "# Convert to DataFrame\n",
    "df = pd.DataFrame(article_rows)\n",
    "\n",
    "# Replace missing values with 0 for entity_type columns\n",
    "entity_type_cols = [col for col in df.columns if col not in ['article_id', 'period']]\n",
    "df[entity_type_cols] = df[entity_type_cols].fillna(0).astype(int)\n",
    "\n",
    "# Save to CSV\n",
    "csv_output = 'sources_per_article.csv'\n",
    "df.to_csv(csv_output, index=False)\n",
    "print(f\"✅ CSV saved: {csv_output}\")\n",
    "\n",
    "# Save to Excel\n",
    "excel_output = 'sources_per_article.xlsx'\n",
    "df.to_excel(excel_output, index=False)\n",
    "print(f\"✅ Excel saved: {excel_output}\")\n"
   ]
  }
 ],
 "metadata": {
  "kernelspec": {
   "display_name": "base",
   "language": "python",
   "name": "python3"
  },
  "language_info": {
   "codemirror_mode": {
    "name": "ipython",
    "version": 3
   },
   "file_extension": ".py",
   "mimetype": "text/x-python",
   "name": "python",
   "nbconvert_exporter": "python",
   "pygments_lexer": "ipython3",
   "version": "3.13.5"
  }
 },
 "nbformat": 4,
 "nbformat_minor": 5
}
