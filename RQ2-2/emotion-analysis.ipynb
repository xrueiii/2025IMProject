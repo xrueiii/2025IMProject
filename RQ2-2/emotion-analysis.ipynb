{
 "cells": [
  {
   "cell_type": "markdown",
   "id": "1367e379-69b4-4b40-8132-f7647bbc98f8",
   "metadata": {},
   "source": [
    "## 讀取資料"
   ]
  },
  {
   "cell_type": "code",
   "execution_count": 3,
   "id": "259e0fb4-117a-4607-afe4-c06b1758e18a",
   "metadata": {},
   "outputs": [
    {
     "name": "stdout",
     "output_type": "stream",
     "text": [
      "Columns: Index(['emotion_id', 'article_id', 'entity', 'entity_type', 'asian_status',\n",
      "       'emotion', 'emotion_reason', 'date'],\n",
      "      dtype='object')\n"
     ]
    }
   ],
   "source": [
    "import pandas as pd\n",
    "from scipy.stats import mannwhitneyu, chi2_contingency\n",
    "from statsmodels.stats.proportion import proportions_ztest\n",
    "\n",
    "df = pd.read_csv(\"emotion_gpt.csv\")\n",
    "\n",
    "# 確認欄位\n",
    "print(\"Columns:\", df.columns)"
   ]
  },
  {
   "cell_type": "code",
   "execution_count": 5,
   "id": "579f9d11-1c6b-4e8a-a74d-404785802974",
   "metadata": {},
   "outputs": [
    {
     "data": {
      "text/html": [
       "<div>\n",
       "<style scoped>\n",
       "    .dataframe tbody tr th:only-of-type {\n",
       "        vertical-align: middle;\n",
       "    }\n",
       "\n",
       "    .dataframe tbody tr th {\n",
       "        vertical-align: top;\n",
       "    }\n",
       "\n",
       "    .dataframe thead th {\n",
       "        text-align: right;\n",
       "    }\n",
       "</style>\n",
       "<table border=\"1\" class=\"dataframe\">\n",
       "  <thead>\n",
       "    <tr style=\"text-align: right;\">\n",
       "      <th></th>\n",
       "      <th>emotion_id</th>\n",
       "      <th>article_id</th>\n",
       "      <th>entity</th>\n",
       "      <th>entity_type</th>\n",
       "      <th>asian_status</th>\n",
       "      <th>emotion</th>\n",
       "      <th>emotion_reason</th>\n",
       "      <th>date</th>\n",
       "    </tr>\n",
       "  </thead>\n",
       "  <tbody>\n",
       "    <tr>\n",
       "      <th>0</th>\n",
       "      <td>emotion_1</td>\n",
       "      <td>Article_1</td>\n",
       "      <td>Julie Morita, M.D.</td>\n",
       "      <td>professionals</td>\n",
       "      <td>Asian</td>\n",
       "      <td>cannot be inferred</td>\n",
       "      <td>Julie Morita, M.D., is executive vice presiden...</td>\n",
       "      <td>2020-04-21</td>\n",
       "    </tr>\n",
       "    <tr>\n",
       "      <th>1</th>\n",
       "      <td>emotion_2</td>\n",
       "      <td>Article_1</td>\n",
       "      <td>Japanese Americans</td>\n",
       "      <td>victims</td>\n",
       "      <td>Asian</td>\n",
       "      <td>sadness</td>\n",
       "      <td>As Japanese Americans, they experienced as chi...</td>\n",
       "      <td>2020-04-21</td>\n",
       "    </tr>\n",
       "    <tr>\n",
       "      <th>2</th>\n",
       "      <td>emotion_3</td>\n",
       "      <td>Article_1</td>\n",
       "      <td>Asian Americans</td>\n",
       "      <td>victims</td>\n",
       "      <td>Asian</td>\n",
       "      <td>anger</td>\n",
       "      <td>With the coronavirus pandemic today, they are ...</td>\n",
       "      <td>2020-04-21</td>\n",
       "    </tr>\n",
       "    <tr>\n",
       "      <th>3</th>\n",
       "      <td>emotion_4</td>\n",
       "      <td>Article_1</td>\n",
       "      <td>Asian Americans</td>\n",
       "      <td>victims</td>\n",
       "      <td>Asian</td>\n",
       "      <td>anger</td>\n",
       "      <td>Now, I must speak out in the face of new attac...</td>\n",
       "      <td>2020-04-21</td>\n",
       "    </tr>\n",
       "    <tr>\n",
       "      <th>4</th>\n",
       "      <td>emotion_5</td>\n",
       "      <td>Article_1</td>\n",
       "      <td>Asian Americans</td>\n",
       "      <td>victims</td>\n",
       "      <td>Asian</td>\n",
       "      <td>anger</td>\n",
       "      <td>The percentage of tweets involving negative sp...</td>\n",
       "      <td>2020-04-21</td>\n",
       "    </tr>\n",
       "  </tbody>\n",
       "</table>\n",
       "</div>"
      ],
      "text/plain": [
       "  emotion_id article_id              entity    entity_type asian_status  \\\n",
       "0  emotion_1  Article_1  Julie Morita, M.D.  professionals        Asian   \n",
       "1  emotion_2  Article_1  Japanese Americans        victims        Asian   \n",
       "2  emotion_3  Article_1     Asian Americans        victims        Asian   \n",
       "3  emotion_4  Article_1     Asian Americans        victims        Asian   \n",
       "4  emotion_5  Article_1     Asian Americans        victims        Asian   \n",
       "\n",
       "              emotion                                     emotion_reason  \\\n",
       "0  cannot be inferred  Julie Morita, M.D., is executive vice presiden...   \n",
       "1             sadness  As Japanese Americans, they experienced as chi...   \n",
       "2               anger  With the coronavirus pandemic today, they are ...   \n",
       "3               anger  Now, I must speak out in the face of new attac...   \n",
       "4               anger  The percentage of tweets involving negative sp...   \n",
       "\n",
       "         date  \n",
       "0  2020-04-21  \n",
       "1  2020-04-21  \n",
       "2  2020-04-21  \n",
       "3  2020-04-21  \n",
       "4  2020-04-21  "
      ]
     },
     "execution_count": 5,
     "metadata": {},
     "output_type": "execute_result"
    }
   ],
   "source": [
    "df.head()"
   ]
  },
  {
   "cell_type": "markdown",
   "id": "05284a57-5db8-4623-ad4a-b8b7add0d15e",
   "metadata": {},
   "source": [
    "## Preprocess - Mainstream v.s Non-Mainstream"
   ]
  },
  {
   "cell_type": "code",
   "execution_count": null,
   "id": "58026a2b-8e19-4888-a268-b5f50dc09ecb",
   "metadata": {},
   "outputs": [],
   "source": []
  }
 ],
 "metadata": {
  "kernelspec": {
   "display_name": "Python [conda env:base] *",
   "language": "python",
   "name": "conda-base-py"
  },
  "language_info": {
   "codemirror_mode": {
    "name": "ipython",
    "version": 3
   },
   "file_extension": ".py",
   "mimetype": "text/x-python",
   "name": "python",
   "nbconvert_exporter": "python",
   "pygments_lexer": "ipython3",
   "version": "3.11.7"
  }
 },
 "nbformat": 4,
 "nbformat_minor": 5
}
